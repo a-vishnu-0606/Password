{
  "nbformat": 4,
  "nbformat_minor": 0,
  "metadata": {
    "colab": {
      "provenance": []
    },
    "kernelspec": {
      "name": "python3",
      "display_name": "Python 3"
    },
    "language_info": {
      "name": "python"
    }
  },
  "cells": [
    {
      "cell_type": "code",
      "execution_count": 1,
      "metadata": {
        "colab": {
          "base_uri": "https://localhost:8080/"
        },
        "id": "gwKSdAgClb2L",
        "outputId": "5b99e38f-22f0-43f6-99c6-2c0ef967ab49"
      },
      "outputs": [
        {
          "output_type": "stream",
          "name": "stdout",
          "text": [
            "Requirement already satisfied: openpyxl in /usr/local/lib/python3.10/dist-packages (3.1.2)\n",
            "Requirement already satisfied: et-xmlfile in /usr/local/lib/python3.10/dist-packages (from openpyxl) (1.1.0)\n"
          ]
        }
      ],
      "source": [
        "pip install openpyxl\n"
      ]
    },
    {
      "cell_type": "code",
      "source": [
        "import random\n",
        "import string\n",
        "from openpyxl import Workbook\n",
        "from google.colab import files\n",
        "\n",
        "def generate_weak_password(length=8):\n",
        "    return ''.join(random.choices(string.ascii_lowercase, k=length))\n",
        "\n",
        "def generate_medium_password(length=10):\n",
        "    letters = string.ascii_letters + string.digits\n",
        "    return ''.join(random.choices(letters, k=length))\n",
        "\n",
        "def generate_strong_password(length=12):\n",
        "    characters = string.ascii_letters + string.digits + string.punctuation\n",
        "    return ''.join(random.choices(characters, k=length))\n",
        "\n",
        "def generate_password():\n",
        "    password_strength_functions = [generate_weak_password, generate_medium_password, generate_strong_password]\n",
        "    selected_function = random.choice(password_strength_functions)\n",
        "    return selected_function()\n",
        "\n",
        "# specify the number of passwords you want to generate\n",
        "num_passwords = 500\n",
        "\n",
        "# Create a workbook and select the active worksheet\n",
        "wb = Workbook()\n",
        "ws = wb.active\n",
        "\n",
        "# generate and store multiple passwords\n",
        "for row in range(1, num_passwords + 1):\n",
        "    generated_password = generate_password()\n",
        "    ws.cell(row=row, column=1, value=generated_password)\n",
        "\n",
        "# Save the workbook\n",
        "wb.save(\"generated_passwords.xlsx\")\n",
        "\n",
        "# Download the file\n",
        "files.download(\"generated_passwords.xlsx\")\n"
      ],
      "metadata": {
        "colab": {
          "base_uri": "https://localhost:8080/",
          "height": 17
        },
        "id": "5favZMkulfay",
        "outputId": "4cb82cd5-02c1-44fa-e69f-a9e3b84b5773"
      },
      "execution_count": 3,
      "outputs": [
        {
          "output_type": "display_data",
          "data": {
            "text/plain": [
              "<IPython.core.display.Javascript object>"
            ],
            "application/javascript": [
              "\n",
              "    async function download(id, filename, size) {\n",
              "      if (!google.colab.kernel.accessAllowed) {\n",
              "        return;\n",
              "      }\n",
              "      const div = document.createElement('div');\n",
              "      const label = document.createElement('label');\n",
              "      label.textContent = `Downloading \"${filename}\": `;\n",
              "      div.appendChild(label);\n",
              "      const progress = document.createElement('progress');\n",
              "      progress.max = size;\n",
              "      div.appendChild(progress);\n",
              "      document.body.appendChild(div);\n",
              "\n",
              "      const buffers = [];\n",
              "      let downloaded = 0;\n",
              "\n",
              "      const channel = await google.colab.kernel.comms.open(id);\n",
              "      // Send a message to notify the kernel that we're ready.\n",
              "      channel.send({})\n",
              "\n",
              "      for await (const message of channel.messages) {\n",
              "        // Send a message to notify the kernel that we're ready.\n",
              "        channel.send({})\n",
              "        if (message.buffers) {\n",
              "          for (const buffer of message.buffers) {\n",
              "            buffers.push(buffer);\n",
              "            downloaded += buffer.byteLength;\n",
              "            progress.value = downloaded;\n",
              "          }\n",
              "        }\n",
              "      }\n",
              "      const blob = new Blob(buffers, {type: 'application/binary'});\n",
              "      const a = document.createElement('a');\n",
              "      a.href = window.URL.createObjectURL(blob);\n",
              "      a.download = filename;\n",
              "      div.appendChild(a);\n",
              "      a.click();\n",
              "      div.remove();\n",
              "    }\n",
              "  "
            ]
          },
          "metadata": {}
        },
        {
          "output_type": "display_data",
          "data": {
            "text/plain": [
              "<IPython.core.display.Javascript object>"
            ],
            "application/javascript": [
              "download(\"download_95a118d7-dc53-426a-88fa-375f714f1b61\", \"generated_passwords.xlsx\", 12853)"
            ]
          },
          "metadata": {}
        }
      ]
    },
    {
      "cell_type": "code",
      "source": [
        "from openpyxl import load_workbook\n",
        "from openpyxl.styles import Font\n",
        "from google.colab import files\n",
        "import string\n",
        "\n",
        "# Load the workbook\n",
        "file_path = \"generated_passwords.xlsx\"\n",
        "wb = load_workbook(file_path)\n",
        "ws = wb.active\n",
        "\n",
        "# Define password strength evaluation functions\n",
        "def evaluate_strength(password):\n",
        "    has_lowercase = any(char in string.ascii_lowercase for char in password)\n",
        "    has_uppercase = any(char in string.ascii_uppercase for char in password)\n",
        "    has_digit = any(char in string.digits for char in password)\n",
        "    has_special = any(char in string.punctuation for char in password)\n",
        "\n",
        "    if has_lowercase and has_uppercase and has_digit and has_special:\n",
        "        return \"Strong\"\n",
        "    elif has_lowercase and has_uppercase and has_digit:\n",
        "        return \"Medium\"\n",
        "    else:\n",
        "        return \"Weak\"\n",
        "\n",
        "# Add a column for password strength\n",
        "ws.insert_cols(2)\n",
        "ws.cell(row=1, column=2, value=\"Strength\")\n",
        "ws['B1'].font = Font(bold=True)\n",
        "\n",
        "# Evaluate password strength and update the sheet\n",
        "for row in range(2, ws.max_row + 1):\n",
        "    password = ws.cell(row=row, column=1).value\n",
        "    strength = evaluate_strength(password)\n",
        "    ws.cell(row=row, column=2, value=strength)\n",
        "\n",
        "# Save the modified workbook\n",
        "modified_file_path = \"modified_generated_passwords.xlsx\"\n",
        "wb.save(modified_file_path)\n",
        "\n",
        "# Download the modified file\n",
        "files.download(modified_file_path)\n"
      ],
      "metadata": {
        "colab": {
          "base_uri": "https://localhost:8080/",
          "height": 17
        },
        "id": "xbkTxHPcmVHB",
        "outputId": "2df8426e-5a23-4a12-cdaf-758163098ea3"
      },
      "execution_count": 6,
      "outputs": [
        {
          "output_type": "display_data",
          "data": {
            "text/plain": [
              "<IPython.core.display.Javascript object>"
            ],
            "application/javascript": [
              "\n",
              "    async function download(id, filename, size) {\n",
              "      if (!google.colab.kernel.accessAllowed) {\n",
              "        return;\n",
              "      }\n",
              "      const div = document.createElement('div');\n",
              "      const label = document.createElement('label');\n",
              "      label.textContent = `Downloading \"${filename}\": `;\n",
              "      div.appendChild(label);\n",
              "      const progress = document.createElement('progress');\n",
              "      progress.max = size;\n",
              "      div.appendChild(progress);\n",
              "      document.body.appendChild(div);\n",
              "\n",
              "      const buffers = [];\n",
              "      let downloaded = 0;\n",
              "\n",
              "      const channel = await google.colab.kernel.comms.open(id);\n",
              "      // Send a message to notify the kernel that we're ready.\n",
              "      channel.send({})\n",
              "\n",
              "      for await (const message of channel.messages) {\n",
              "        // Send a message to notify the kernel that we're ready.\n",
              "        channel.send({})\n",
              "        if (message.buffers) {\n",
              "          for (const buffer of message.buffers) {\n",
              "            buffers.push(buffer);\n",
              "            downloaded += buffer.byteLength;\n",
              "            progress.value = downloaded;\n",
              "          }\n",
              "        }\n",
              "      }\n",
              "      const blob = new Blob(buffers, {type: 'application/binary'});\n",
              "      const a = document.createElement('a');\n",
              "      a.href = window.URL.createObjectURL(blob);\n",
              "      a.download = filename;\n",
              "      div.appendChild(a);\n",
              "      a.click();\n",
              "      div.remove();\n",
              "    }\n",
              "  "
            ]
          },
          "metadata": {}
        },
        {
          "output_type": "display_data",
          "data": {
            "text/plain": [
              "<IPython.core.display.Javascript object>"
            ],
            "application/javascript": [
              "download(\"download_e3fb1dae-30cb-4df2-95db-7460515fba43\", \"modified_generated_passwords.xlsx\", 14860)"
            ]
          },
          "metadata": {}
        }
      ]
    }
  ]
}